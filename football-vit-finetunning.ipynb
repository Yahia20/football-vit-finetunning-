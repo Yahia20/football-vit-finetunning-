{
 "cells": [
  {
   "cell_type": "markdown",
   "id": "fabfa42e",
   "metadata": {},
   "source": [
    "# 1️⃣ Install Libraries"
   ]
  },
  {
   "cell_type": "code",
   "execution_count": 3,
   "id": "21b5dc36",
   "metadata": {},
   "outputs": [],
   "source": [
    "# Install required packages quietly\n",
    "!pip install transformers datasets torch torchvision --quiet\n"
   ]
  },
  {
   "cell_type": "markdown",
   "id": "162d318b",
   "metadata": {},
   "source": [
    "### Explanation:\n",
    "Install Hugging Face Transformers, Datasets, PyTorch, and Torchvision. The --quiet flag keeps output cleaner."
   ]
  },
  {
   "cell_type": "markdown",
   "id": "2b605ce2",
   "metadata": {},
   "source": [
    "# 2️⃣ Import Libraries and Set Device"
   ]
  },
  {
   "cell_type": "code",
   "execution_count": null,
   "id": "9e972b2a",
   "metadata": {},
   "outputs": [],
   "source": [
    "import torch\n",
    "from torch import nn\n",
    "from torch.utils.data import Dataset, DataLoader\n",
    "from torchvision import transforms\n",
    "from transformers import ViTForImageClassification, ViTConfig\n",
    "from datasets import load_dataset\n",
    "from PIL import Image\n",
    "\n",
    "# Set device: GPU if available, else CPU\n",
    "device = torch.device(\"cuda\" if torch.cuda.is_available() else \"cpu\")\n",
    "print(\"Using device:\", device)\n"
   ]
  },
  {
   "cell_type": "markdown",
   "id": "2dde3fc3",
   "metadata": {},
   "source": [
    "### Explanation:\n",
    "All libraries needed for loading data, preprocessing, model, and training. The device line ensures GPU usage if available."
   ]
  },
  {
   "cell_type": "markdown",
   "id": "0abae3a3",
   "metadata": {},
   "source": [
    "# 3️⃣ Load Dataset"
   ]
  },
  {
   "cell_type": "code",
   "execution_count": null,
   "id": "924cbd2f",
   "metadata": {},
   "outputs": [],
   "source": [
    "# Load Hugging Face dataset\n",
    "dataset = load_dataset(\"aaronqg/golden-foot-football-players\")\n",
    "print(dataset)\n"
   ]
  },
  {
   "cell_type": "markdown",
   "id": "3992b946",
   "metadata": {},
   "source": [
    "### Explanation:\n",
    "Loads the Golden Foot Football Players dataset. It has train, validation, and test splits."
   ]
  },
  {
   "cell_type": "markdown",
   "id": "4b9e4287",
   "metadata": {},
   "source": [
    "# 4️⃣ Create Custom PyTorch Dataset"
   ]
  },
  {
   "cell_type": "code",
   "execution_count": null,
   "id": "c6847b39",
   "metadata": {},
   "outputs": [],
   "source": [
    "class FootballDataset(Dataset):\n",
    "    def __init__(self, hf_dataset, transform=None):\n",
    "        self.dataset = hf_dataset\n",
    "        self.transform = transform\n",
    "\n",
    "    def __len__(self):\n",
    "        return len(self.dataset)\n",
    "\n",
    "    def __getitem__(self, idx):\n",
    "        item = self.dataset[idx]\n",
    "        image = item['image']\n",
    "        # Convert string labels to integer if needed\n",
    "        label = int(item['label'].split()[0]) if isinstance(item['label'], str) else item['label']\n",
    "\n",
    "        if self.transform:\n",
    "            image = self.transform(image)\n",
    "        return image, label\n"
   ]
  },
  {
   "cell_type": "markdown",
   "id": "b63135b6",
   "metadata": {},
   "source": [
    "### Explanation:\n",
    "Wraps the Hugging Face dataset into a PyTorch Dataset with optional transforms. Converts string labels to integers if necessary."
   ]
  },
  {
   "cell_type": "markdown",
   "id": "d73ca65f",
   "metadata": {},
   "source": [
    "# 5️⃣ Define Image Transformations and DataLoaders"
   ]
  },
  {
   "cell_type": "code",
   "execution_count": null,
   "id": "761733ee",
   "metadata": {},
   "outputs": [],
   "source": [
    "transform = transforms.Compose([\n",
    "    transforms.Resize((224, 224)),  # ViT expects 224x224 input\n",
    "    transforms.RandomHorizontalFlip(),\n",
    "    transforms.ToTensor(),\n",
    "    transforms.Normalize(mean=[0.5,0.5,0.5], std=[0.5,0.5,0.5])\n",
    "])\n",
    "\n",
    "train_dataset = FootballDataset(dataset['train'], transform=transform)\n",
    "val_dataset = FootballDataset(dataset['validation'], transform=transform)\n",
    "\n",
    "train_loader = DataLoader(train_dataset, batch_size=16, shuffle=True)\n",
    "val_loader = DataLoader(val_dataset, batch_size=16)\n"
   ]
  },
  {
   "cell_type": "markdown",
   "id": "c3b91ada",
   "metadata": {},
   "source": [
    "# Explanation:\n",
    "Preprocess images for ViT and create PyTorch DataLoaders for batching and shuffling."
   ]
  },
  {
   "cell_type": "markdown",
   "id": "7c5ee91b",
   "metadata": {},
   "source": [
    "# 6️⃣ Initialize ViT Model for Classification"
   ]
  },
  {
   "cell_type": "code",
   "execution_count": null,
   "id": "7c577eb7",
   "metadata": {},
   "outputs": [],
   "source": [
    "num_classes = 22  # Number of players\n",
    "\n",
    "# Create configuration with correct number of labels\n",
    "config = ViTConfig.from_pretrained(\"google/vit-base-patch16-224\", num_labels=num_classes)\n",
    "\n",
    "# Load pre-trained ViT and automatically re-initialize classifier if sizes mismatch\n",
    "model = ViTForImageClassification.from_pretrained(\n",
    "    \"google/vit-base-patch16-224\",\n",
    "    config=config,\n",
    "    ignore_mismatched_sizes=True\n",
    ")\n",
    "\n",
    "# Freeze ViT backbone (only fine-tune classifier)\n",
    "for param in model.vit.parameters():\n",
    "    param.requires_grad = False\n",
    "\n",
    "model.to(device)\n"
   ]
  },
  {
   "cell_type": "markdown",
   "id": "3d2fac2a",
   "metadata": {},
   "source": [
    "### Explanation:\n",
    "Uses ignore_mismatched_sizes=True to replace the default 1000-class classifier with our 22-class one. Only the classifier layer will be trained."
   ]
  },
  {
   "cell_type": "markdown",
   "id": "22deef1d",
   "metadata": {},
   "source": [
    "# 7️⃣ Define Loss Function and Optimizer"
   ]
  },
  {
   "cell_type": "code",
   "execution_count": null,
   "id": "a39d1010",
   "metadata": {},
   "outputs": [],
   "source": [
    "criterion = nn.CrossEntropyLoss()\n",
    "optimizer = torch.optim.Adam(model.classifier.parameters(), lr=1e-4)\n"
   ]
  },
  {
   "cell_type": "markdown",
   "id": "cf9f8fb8",
   "metadata": {},
   "source": [
    "### Explanation:\n",
    "Cross-entropy for multi-class classification. Only the classifier’s parameters are optimized"
   ]
  },
  {
   "cell_type": "markdown",
   "id": "b8a9d190",
   "metadata": {},
   "source": [
    "# 8️⃣ Training Loop"
   ]
  },
  {
   "cell_type": "code",
   "execution_count": null,
   "id": "b2d2b86e",
   "metadata": {},
   "outputs": [],
   "source": [
    "num_epochs = 100\n",
    "\n",
    "for epoch in range(num_epochs):\n",
    "    model.train()\n",
    "    running_loss = 0.0\n",
    "\n",
    "    for inputs, labels in train_loader:\n",
    "        inputs, labels = inputs.to(device), labels.to(device)\n",
    "\n",
    "        optimizer.zero_grad()\n",
    "        outputs = model(inputs).logits\n",
    "        loss = criterion(outputs, labels)\n",
    "        loss.backward()\n",
    "        optimizer.step()\n",
    "\n",
    "        running_loss += loss.item()\n",
    "\n",
    "    print(f\"Epoch [{epoch+1}/{num_epochs}], Loss: {running_loss/len(train_loader):.4f}\")\n"
   ]
  },
  {
   "cell_type": "markdown",
   "id": "01525bd0",
   "metadata": {},
   "source": [
    "# Explanation:\n",
    "Standard PyTorch training loop. Computes loss, backpropagates, updates weights, and prints average loss per epoch."
   ]
  },
  {
   "cell_type": "markdown",
   "id": "6c365631",
   "metadata": {},
   "source": [
    "# 9️⃣ Validation Accuracy"
   ]
  },
  {
   "cell_type": "code",
   "execution_count": null,
   "id": "92dcf8db",
   "metadata": {},
   "outputs": [],
   "source": [
    "model.eval()\n",
    "correct = 0\n",
    "total = 0\n",
    "\n",
    "with torch.no_grad():\n",
    "    for inputs, labels in val_loader:\n",
    "        inputs, labels = inputs.to(device), labels.to(device)\n",
    "        outputs = model(inputs).logits\n",
    "        _, predicted = torch.max(outputs.data, 1)\n",
    "        total += labels.size(0)\n",
    "        correct += (predicted == labels).sum().item()\n",
    "\n",
    "print(f'Validation Accuracy: {100 * correct / total:.2f}%')\n"
   ]
  },
  {
   "cell_type": "markdown",
   "id": "d2bab5a1",
   "metadata": {},
   "source": [
    "### Explanation:\n",
    "Evaluate the model on validation data without updating weights. Calculates and prints accuracy."
   ]
  },
  {
   "cell_type": "markdown",
   "id": "b399aba3",
   "metadata": {},
   "source": [
    "# 🔟 Save the Trained Model"
   ]
  },
  {
   "cell_type": "code",
   "execution_count": null,
   "id": "f05772e6",
   "metadata": {},
   "outputs": [],
   "source": [
    "# Save the entire model and tokenizer/config (optional)\n",
    "model_save_path = \"./vit_football_classifier\"\n",
    "model.save_pretrained(model_save_path)\n",
    "print(f\"Model saved to {model_save_path}\")\n"
   ]
  },
  {
   "cell_type": "markdown",
   "id": "37417599",
   "metadata": {},
   "source": [
    "### Explanation:\n",
    "\n",
    "save_pretrained saves both the model weights and configuration.\n",
    "\n",
    "You can later reload it with ViTForImageClassification.from_pretrained(model_save_path).\n",
    "\n",
    "Useful for deployment, sharing, or continuing training."
   ]
  }
 ],
 "metadata": {
  "kernelspec": {
   "display_name": "Python 3",
   "language": "python",
   "name": "python3"
  },
  "language_info": {
   "codemirror_mode": {
    "name": "ipython",
    "version": 3
   },
   "file_extension": ".py",
   "mimetype": "text/x-python",
   "name": "python",
   "nbconvert_exporter": "python",
   "pygments_lexer": "ipython3",
   "version": "3.12.5"
  }
 },
 "nbformat": 4,
 "nbformat_minor": 5
}
